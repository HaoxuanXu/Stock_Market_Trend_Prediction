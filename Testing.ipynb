{
 "cells": [
  {
   "cell_type": "code",
   "execution_count": null,
   "metadata": {},
   "outputs": [],
   "source": [
    "# from libraries\n",
    "import pandas as pd\n",
    "import dask.dataframe as dd\n",
    "# from files\n",
    "import params\n",
    "import auth\n",
    "import get_data_util\n",
    "import get_sp500_util as sp500\n",
    "import get_dow_jones_util as dj"
   ]
  },
  {
   "cell_type": "code",
   "execution_count": null,
   "metadata": {},
   "outputs": [],
   "source": [
    "import requests\n",
    "from requests.adapters import HTTPAdapter\n",
    "from urllib3.util import Retry\n",
    "import pandas as pd\n",
    "import dask.dataframe as dd\n",
    "from io import StringIO\n",
    "import quandl\n",
    "import time\n",
    "import boto3\n",
    "import datetime\n",
    "\n",
    "# from files:\n",
    "import auth\n",
    "import params"
   ]
  },
  {
   "cell_type": "code",
   "execution_count": null,
   "metadata": {},
   "outputs": [],
   "source": [
    "ticker_list = dj.get_dow_jones(url=dj.url, headers=auth.user_agent)\n",
    "quandl_parameters = [a for a in dir(params) if (\"_parameters\" in a)]"
   ]
  },
  {
   "cell_type": "code",
   "execution_count": null,
   "metadata": {},
   "outputs": [],
   "source": [
    "stock_info_list = []\n",
    "alpha_vantage_base = \"https://www.alphavantage.co\"  # url base\n",
    "param_dict_names = [name for name in dir(params) if ('_params' in name)]\n",
    "param_dict_list = [getattr(params, name) for name in param_dict_names]"
   ]
  },
  {
   "cell_type": "code",
   "execution_count": null,
   "metadata": {},
   "outputs": [],
   "source": [
    "param_dict_names"
   ]
  },
  {
   "cell_type": "code",
   "execution_count": null,
   "metadata": {},
   "outputs": [],
   "source": [
    "for stock_symbol in ticker_list:\n",
    "    stock_indicators = []\n",
    "    for i in range(len(param_dict_list)):\n",
    "        session = requests.Session()\n",
    "        retry = Retry(connect=5, backoff_factor=0.5)\n",
    "        adapter = HTTPAdapter(max_retries=retry)\n",
    "        session.mount(\"http://\", adapter)\n",
    "        session.mount(\"https://\", adapter)\n",
    "        param_dict_list[i][\"symbol\"] = stock_symbol\n",
    "        r = session.get(alpha_vantage_base + '/query', params=param_dict_list[i], headers=auth.user_agent)\n",
    "        df = pd.read_csv(StringIO(r.content.decode('utf-8')), engine=\"python\").iloc[1:,:]\n",
    "        df.columns = [param_dict_list[i][\"function\"] + \"_\" + str(column) for column in df.columns]\n",
    "        df.set_index(df.columns[0], inplace=True)\n",
    "        if param_dict_list[i][\"function\"] == \"TIME_SERIES_DAILY_ADJUSTED\":\n",
    "            df[\"stock_symbol\"] = stock_symbol\n",
    "        stock_indicators.append(df)\n",
    "        print(\"Successfully extracted {}!\".format(stock_symbol+\"_\"+param_dict_names[i].replace(\"_params\",\"\")))\n",
    "    stock_info = pd.concat(stock_indicators, axis=1)\n",
    "    stock_info = stock_info.loc[:,~stock_info.columns.duplicated()]\n",
    "#    stock_info_list.append(stock_info)\n",
    "#concat_data = pd.concat(stock_info_list, axis=0, sort=False, ignore_index=True)"
   ]
  },
  {
   "cell_type": "code",
   "execution_count": null,
   "metadata": {},
   "outputs": [],
   "source": [
    "len(stock_indicators)"
   ]
  },
  {
   "cell_type": "code",
   "execution_count": null,
   "metadata": {},
   "outputs": [],
   "source": [
    "stock_info"
   ]
  },
  {
   "cell_type": "code",
   "execution_count": null,
   "metadata": {},
   "outputs": [],
   "source": [
    "len(stock_info.columns)"
   ]
  },
  {
   "cell_type": "code",
   "execution_count": null,
   "metadata": {},
   "outputs": [],
   "source": [
    "list(stock_info_list[0].columns)"
   ]
  },
  {
   "cell_type": "code",
   "execution_count": null,
   "metadata": {},
   "outputs": [],
   "source": [
    "list(stock_info_list[2].columns)"
   ]
  },
  {
   "cell_type": "code",
   "execution_count": null,
   "metadata": {},
   "outputs": [],
   "source": [
    "quandl.ApiConfig.api_key = auth.apikey_quandl\n",
    "indicator_data_list = []"
   ]
  },
  {
   "cell_type": "code",
   "execution_count": null,
   "metadata": {},
   "outputs": [],
   "source": [
    "for param in quandl_parameters:\n",
    "        dict_ = getattr(params, param)\n",
    "        data = quandl.get(\"{}/{}\".format(dict_[\"database_code\"], dict_[\"dataset_code\"]),\n",
    "                          start_date=dict_[\"start_date\"], end_date=dict_[\"end_date\"])\n",
    "        data.columns = [param.split(\"_\")[0] + \"_\" + str(column) for column in data.columns]\n",
    "        indicator_data_list.append(data)\n",
    "indicator_data = pd.concat(indicator_data_list, axis=1, sort=False)"
   ]
  },
  {
   "cell_type": "code",
   "execution_count": null,
   "metadata": {},
   "outputs": [],
   "source": [
    "indicator_data"
   ]
  },
  {
   "cell_type": "code",
   "execution_count": null,
   "metadata": {},
   "outputs": [],
   "source": [
    "stock_info"
   ]
  },
  {
   "cell_type": "code",
   "execution_count": null,
   "metadata": {},
   "outputs": [],
   "source": [
    "stock_info.join(indicator_data)"
   ]
  },
  {
   "cell_type": "code",
   "execution_count": null,
   "metadata": {},
   "outputs": [],
   "source": []
  }
 ],
 "metadata": {
  "kernelspec": {
   "display_name": "Python 3",
   "language": "python",
   "name": "python3"
  },
  "language_info": {
   "codemirror_mode": {
    "name": "ipython",
    "version": 3
   },
   "file_extension": ".py",
   "mimetype": "text/x-python",
   "name": "python",
   "nbconvert_exporter": "python",
   "pygments_lexer": "ipython3",
   "version": "3.7.3"
  }
 },
 "nbformat": 4,
 "nbformat_minor": 2
}
