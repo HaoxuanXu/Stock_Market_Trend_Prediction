{
 "cells": [
  {
   "cell_type": "code",
   "execution_count": 1,
   "metadata": {},
   "outputs": [],
   "source": [
    "import params"
   ]
  },
  {
   "cell_type": "code",
   "execution_count": 12,
   "metadata": {},
   "outputs": [],
   "source": [
    "param_names = [param.replace('_params','') for param in dir(params) if ('params' in param)]"
   ]
  },
  {
   "cell_type": "code",
   "execution_count": 13,
   "metadata": {},
   "outputs": [
    {
     "ename": "AttributeError",
     "evalue": "module 'params' has no attribute 'ad'",
     "output_type": "error",
     "traceback": [
      "\u001b[1;31m---------------------------------------------------------------------------\u001b[0m",
      "\u001b[1;31mAttributeError\u001b[0m                            Traceback (most recent call last)",
      "\u001b[1;32m<ipython-input-13-86a05a1a76d2>\u001b[0m in \u001b[0;36m<module>\u001b[1;34m\u001b[0m\n\u001b[1;32m----> 1\u001b[1;33m \u001b[0mgetattr\u001b[0m\u001b[1;33m(\u001b[0m\u001b[0mparams\u001b[0m\u001b[1;33m,\u001b[0m \u001b[0mparam_names\u001b[0m\u001b[1;33m[\u001b[0m\u001b[1;36m0\u001b[0m\u001b[1;33m]\u001b[0m\u001b[1;33m)\u001b[0m\u001b[1;33m\u001b[0m\u001b[1;33m\u001b[0m\u001b[0m\n\u001b[0m",
      "\u001b[1;31mAttributeError\u001b[0m: module 'params' has no attribute 'ad'"
     ]
    }
   ],
   "source": [
    "getattr(params, param_names[0])"
   ]
  },
  {
   "cell_type": "code",
   "execution_count": 16,
   "metadata": {},
   "outputs": [
    {
     "data": {
      "text/plain": [
       "['ad_params',\n",
       " 'adx_params',\n",
       " 'aroon_params',\n",
       " 'bbands_close_params',\n",
       " 'bbands_open_params',\n",
       " 'bop_params',\n",
       " 'cci_params',\n",
       " 'dx_params',\n",
       " 'ema_close_params',\n",
       " 'ema_open_params',\n",
       " 'ht_trendline_close_params',\n",
       " 'ht_trendline_open_params',\n",
       " 'index_fund_params',\n",
       " 'macd_close_params',\n",
       " 'macd_open_params',\n",
       " 'mfi_params',\n",
       " 'mom_close_params',\n",
       " 'mom_open_params',\n",
       " 'obv_params',\n",
       " 'roc_close_params',\n",
       " 'roc_open_params',\n",
       " 'rsi_close_params',\n",
       " 'rsi_open_params',\n",
       " 'sar_params',\n",
       " 'sma_close_params',\n",
       " 'sma_open_params',\n",
       " 'stoch_params',\n",
       " 'trange_params']"
      ]
     },
     "execution_count": 16,
     "metadata": {},
     "output_type": "execute_result"
    }
   ],
   "source": [
    "param_dict_names"
   ]
  },
  {
   "cell_type": "code",
   "execution_count": 17,
   "metadata": {},
   "outputs": [],
   "source": [
    "param_dict_names = [name for name in dir(params) if ('params' in name)]\n",
    "param_dict_keys = [key.replace('_params', '') for key in dir(params) if ('params' in key)]\n",
    "param_dict = {key: getattr(params, name) for key in param_dict_keys for name in param_dict_names}"
   ]
  },
  {
   "cell_type": "code",
   "execution_count": 18,
   "metadata": {},
   "outputs": [
    {
     "data": {
      "text/plain": [
       "{'ad': {'function': 'TRANGE',\n",
       "  'interval': 'daily',\n",
       "  'apikey': 'U3RODPX6OW1XWR80'},\n",
       " 'adx': {'function': 'TRANGE',\n",
       "  'interval': 'daily',\n",
       "  'apikey': 'U3RODPX6OW1XWR80'},\n",
       " 'aroon': {'function': 'TRANGE',\n",
       "  'interval': 'daily',\n",
       "  'apikey': 'U3RODPX6OW1XWR80'},\n",
       " 'bbands_close': {'function': 'TRANGE',\n",
       "  'interval': 'daily',\n",
       "  'apikey': 'U3RODPX6OW1XWR80'},\n",
       " 'bbands_open': {'function': 'TRANGE',\n",
       "  'interval': 'daily',\n",
       "  'apikey': 'U3RODPX6OW1XWR80'},\n",
       " 'bop': {'function': 'TRANGE',\n",
       "  'interval': 'daily',\n",
       "  'apikey': 'U3RODPX6OW1XWR80'},\n",
       " 'cci': {'function': 'TRANGE',\n",
       "  'interval': 'daily',\n",
       "  'apikey': 'U3RODPX6OW1XWR80'},\n",
       " 'dx': {'function': 'TRANGE',\n",
       "  'interval': 'daily',\n",
       "  'apikey': 'U3RODPX6OW1XWR80'},\n",
       " 'ema_close': {'function': 'TRANGE',\n",
       "  'interval': 'daily',\n",
       "  'apikey': 'U3RODPX6OW1XWR80'},\n",
       " 'ema_open': {'function': 'TRANGE',\n",
       "  'interval': 'daily',\n",
       "  'apikey': 'U3RODPX6OW1XWR80'},\n",
       " 'ht_trendline_close': {'function': 'TRANGE',\n",
       "  'interval': 'daily',\n",
       "  'apikey': 'U3RODPX6OW1XWR80'},\n",
       " 'ht_trendline_open': {'function': 'TRANGE',\n",
       "  'interval': 'daily',\n",
       "  'apikey': 'U3RODPX6OW1XWR80'},\n",
       " 'index_fund': {'function': 'TRANGE',\n",
       "  'interval': 'daily',\n",
       "  'apikey': 'U3RODPX6OW1XWR80'},\n",
       " 'macd_close': {'function': 'TRANGE',\n",
       "  'interval': 'daily',\n",
       "  'apikey': 'U3RODPX6OW1XWR80'},\n",
       " 'macd_open': {'function': 'TRANGE',\n",
       "  'interval': 'daily',\n",
       "  'apikey': 'U3RODPX6OW1XWR80'},\n",
       " 'mfi': {'function': 'TRANGE',\n",
       "  'interval': 'daily',\n",
       "  'apikey': 'U3RODPX6OW1XWR80'},\n",
       " 'mom_close': {'function': 'TRANGE',\n",
       "  'interval': 'daily',\n",
       "  'apikey': 'U3RODPX6OW1XWR80'},\n",
       " 'mom_open': {'function': 'TRANGE',\n",
       "  'interval': 'daily',\n",
       "  'apikey': 'U3RODPX6OW1XWR80'},\n",
       " 'obv': {'function': 'TRANGE',\n",
       "  'interval': 'daily',\n",
       "  'apikey': 'U3RODPX6OW1XWR80'},\n",
       " 'roc_close': {'function': 'TRANGE',\n",
       "  'interval': 'daily',\n",
       "  'apikey': 'U3RODPX6OW1XWR80'},\n",
       " 'roc_open': {'function': 'TRANGE',\n",
       "  'interval': 'daily',\n",
       "  'apikey': 'U3RODPX6OW1XWR80'},\n",
       " 'rsi_close': {'function': 'TRANGE',\n",
       "  'interval': 'daily',\n",
       "  'apikey': 'U3RODPX6OW1XWR80'},\n",
       " 'rsi_open': {'function': 'TRANGE',\n",
       "  'interval': 'daily',\n",
       "  'apikey': 'U3RODPX6OW1XWR80'},\n",
       " 'sar': {'function': 'TRANGE',\n",
       "  'interval': 'daily',\n",
       "  'apikey': 'U3RODPX6OW1XWR80'},\n",
       " 'sma_close': {'function': 'TRANGE',\n",
       "  'interval': 'daily',\n",
       "  'apikey': 'U3RODPX6OW1XWR80'},\n",
       " 'sma_open': {'function': 'TRANGE',\n",
       "  'interval': 'daily',\n",
       "  'apikey': 'U3RODPX6OW1XWR80'},\n",
       " 'stoch': {'function': 'TRANGE',\n",
       "  'interval': 'daily',\n",
       "  'apikey': 'U3RODPX6OW1XWR80'},\n",
       " 'trange': {'function': 'TRANGE',\n",
       "  'interval': 'daily',\n",
       "  'apikey': 'U3RODPX6OW1XWR80'}}"
      ]
     },
     "execution_count": 18,
     "metadata": {},
     "output_type": "execute_result"
    }
   ],
   "source": [
    "param_dict"
   ]
  },
  {
   "cell_type": "code",
   "execution_count": null,
   "metadata": {},
   "outputs": [],
   "source": []
  }
 ],
 "metadata": {
  "kernelspec": {
   "display_name": "Python 3",
   "language": "python",
   "name": "python3"
  },
  "language_info": {
   "codemirror_mode": {
    "name": "ipython",
    "version": 3
   },
   "file_extension": ".py",
   "mimetype": "text/x-python",
   "name": "python",
   "nbconvert_exporter": "python",
   "pygments_lexer": "ipython3",
   "version": "3.7.3"
  }
 },
 "nbformat": 4,
 "nbformat_minor": 2
}
